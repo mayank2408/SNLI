{
  "nbformat": 4,
  "nbformat_minor": 0,
  "metadata": {
    "colab": {
      "name": "dl3.ipynb",
      "provenance": [],
      "collapsed_sections": []
    },
    "kernelspec": {
      "name": "python3",
      "display_name": "Python 3"
    },
    "accelerator": "GPU"
  },
  "cells": [
    {
      "cell_type": "code",
      "metadata": {
        "id": "mtrbDRoUXpll",
        "colab_type": "code",
        "outputId": "17d9870f-3706-4e10-9ba7-224f15bf44da",
        "colab": {
          "base_uri": "https://localhost:8080/",
          "height": 128
        }
      },
      "source": [
        "from google.colab import drive\n",
        "drive.mount('/content/drive')\n"
      ],
      "execution_count": 0,
      "outputs": [
        {
          "output_type": "stream",
          "text": [
            "Go to this URL in a browser: https://accounts.google.com/o/oauth2/auth?client_id=947318989803-6bn6qk8qdgf4n4g3pfee6491hc0brc4i.apps.googleusercontent.com&redirect_uri=urn%3aietf%3awg%3aoauth%3a2.0%3aoob&response_type=code&scope=email%20https%3a%2f%2fwww.googleapis.com%2fauth%2fdocs.test%20https%3a%2f%2fwww.googleapis.com%2fauth%2fdrive%20https%3a%2f%2fwww.googleapis.com%2fauth%2fdrive.photos.readonly%20https%3a%2f%2fwww.googleapis.com%2fauth%2fpeopleapi.readonly\n",
            "\n",
            "Enter your authorization code:\n",
            "··········\n",
            "Mounted at /content/drive\n"
          ],
          "name": "stdout"
        }
      ]
    },
    {
      "cell_type": "code",
      "metadata": {
        "id": "O3Y34guDXt-p",
        "colab_type": "code",
        "colab": {}
      },
      "source": [
        "import pandas as pd\n",
        "import numpy as np\n",
        "import torch\n",
        "import torchtext\n",
        "from torchtext.data import Field, BucketIterator\n",
        "import torch.nn as nn\n",
        "import torch.nn.functional as F"
      ],
      "execution_count": 0,
      "outputs": []
    },
    {
      "cell_type": "code",
      "metadata": {
        "id": "XOC04JCOYT6F",
        "colab_type": "code",
        "colab": {}
      },
      "source": [
        "from torchtext import data\n",
        "from torchtext import datasets"
      ],
      "execution_count": 0,
      "outputs": []
    },
    {
      "cell_type": "code",
      "metadata": {
        "id": "0mhv3-euYWUE",
        "colab_type": "code",
        "outputId": "867012eb-2853-485b-c14d-b31d882636ee",
        "colab": {
          "base_uri": "https://localhost:8080/",
          "height": 72
        }
      },
      "source": [
        "import spacy\n",
        "spacy_en = spacy.load('en_core_web_sm')\n",
        "\n",
        "def tokenizer(text): # create a tokenizer function\n",
        "    return [tok.text for tok in spacy_en.tokenizer(text)]\n",
        "\n",
        "sentences = data.Field(lower=True, tokenize=tokenizer)\n",
        "ans = data.Field(sequential=False)\n",
        "\n",
        "train, dev, test = datasets.SNLI.splits(sentences, ans)"
      ],
      "execution_count": 0,
      "outputs": [
        {
          "output_type": "stream",
          "text": [
            "downloading snli_1.0.zip\n"
          ],
          "name": "stdout"
        },
        {
          "output_type": "stream",
          "text": [
            "snli_1.0.zip: 100%|██████████| 94.6M/94.6M [01:04<00:00, 1.46MB/s]\n"
          ],
          "name": "stderr"
        },
        {
          "output_type": "stream",
          "text": [
            "extracting\n"
          ],
          "name": "stdout"
        }
      ]
    },
    {
      "cell_type": "code",
      "metadata": {
        "id": "cV8a5Nf-aa-J",
        "colab_type": "code",
        "colab": {}
      },
      "source": [
        "sentences.build_vocab(train, dev, test,min_freq=3)\n",
        "ans.build_vocab(train, dev, test)\n",
        "if torch.cuda.is_available():\n",
        "    device = torch.device('cuda:0')\n",
        "else:\n",
        "    device = torch.device('cpu')\n",
        "    \n",
        "Batch_Size=128\n",
        "train_iter, dev_iter, test_iter = data.BucketIterator.splits(\n",
        "            (train, dev, test), batch_size=Batch_Size, device=device)"
      ],
      "execution_count": 0,
      "outputs": []
    },
    {
      "cell_type": "code",
      "metadata": {
        "id": "yLYKoHtMYY-2",
        "colab_type": "code",
        "colab": {}
      },
      "source": [
        "n_layer=1\n",
        "class My_RNN(nn.Module):\n",
        "\n",
        "    def __init__(self, embed_dim,hidden_dim,drop_p):\n",
        "        super(My_RNN, self).__init__()\n",
        "        self.rnn = nn.LSTM(input_size=embed_dim, hidden_size=hidden_dim,\n",
        "                        num_layers=n_layer, dropout=drop_p,bidirectional=True)\n",
        "    \n",
        "    \n",
        "    def apply_attention(self, rnn_output, final_hidden_state):\n",
        "        hidden_state = final_hidden_state.unsqueeze(2)\n",
        "        attention_scores = torch.bmm(rnn_output, hidden_state).squeeze(2)\n",
        "        soft_attention_weights = F.softmax(attention_scores, 1).unsqueeze(2) #shape = (batch_size, seq_len, 1)\n",
        "        attention_output = torch.bmm(rnn_output.permute(0,2,1), soft_attention_weights).squeeze(2)\n",
        "        return attention_output\n",
        "\n",
        "    def forward(self, inputs):\n",
        "        batch_size = inputs.size()[1]\n",
        "        state_shape = 2*n_layer, batch_size, hidden_dim\n",
        "        #state_shape = n_layer, batch_size, hidden_dim\n",
        "        h0 = c0 = inputs.new_zeros(state_shape)\n",
        "        outputs, (ht, ct) = self.rnn(inputs, (h0, c0))\n",
        "        h_n_final_layer = ht.view(n_layer,\n",
        "                                   2,\n",
        "                                   batch_size,\n",
        "                                   -1)[-1,:,:,:]\n",
        "        final_hidden_state = torch.cat([h_n_final_layer[i,:,:] for i in range(h_n_final_layer.shape[0])], dim=1)\n",
        "        attention_out = self.apply_attention(outputs.permute(1,0,2), final_hidden_state)\n",
        "        concatenated_vector = torch.cat([final_hidden_state, attention_out], dim=1)\n",
        "        return concatenated_vector\n",
        "        #return ht[-2:].transpose(0, 1).contiguous().view(batch_size, -1)\n",
        "        #return ht[-1]\n",
        "    \n",
        "\n",
        "class Output(nn.Module):\n",
        "\n",
        "    def __init__(self, out_dim,inp_dim,drop_p):\n",
        "        super(Output, self).__init__()\n",
        "        self.fc1=nn.Linear(inp_dim,int(inp_dim/2))\n",
        "        #self.fc2=nn.Linear(int(inp_dim/2),int(inp_dim/2))\n",
        "        self.fc3=nn.Linear(int(inp_dim/2),int(inp_dim/4))\n",
        "        self.fc4=nn.Linear(int(inp_dim/4),out_dim)\n",
        "        self.p=drop_p\n",
        "\n",
        "    def forward(self, x):\n",
        "        x=F.dropout(F.relu(self.fc1(x)),p=self.p)\n",
        "        #x=F.dropout(F.relu(self.fc2(x)),p=self.p)\n",
        "        x=F.dropout(F.relu(self.fc3(x)),p=self.p)\n",
        "        x=(self.fc4(x))\n",
        "        return x"
      ],
      "execution_count": 0,
      "outputs": []
    },
    {
      "cell_type": "code",
      "metadata": {
        "id": "EYwwsv1wY4Yy",
        "colab_type": "code",
        "colab": {}
      },
      "source": [
        "hidden_dim=256\n",
        "embed_dim=300\n",
        "out_dim=4\n",
        "drop_p1=0.25\n",
        "drop_p2=0.3\n",
        "class Classifier(nn.Module):\n",
        "    def __init__(self):\n",
        "        super(Classifier,self).__init__()\n",
        "        self.embedding=nn.Embedding(len(sentences.vocab),embed_dim)\n",
        "        self.RNN=My_RNN(embed_dim,hidden_dim,drop_p1)\n",
        "        self.final_l=Output(out_dim,8*hidden_dim,drop_p2)\n",
        "        \n",
        "    def forward(self,batch):\n",
        "        sen1 = self.embedding(batch.premise)\n",
        "        sen2 = self.embedding(batch.hypothesis)\n",
        "        premise = self.RNN(sen1)\n",
        "        hypothesis = self.RNN(sen2)\n",
        "        out = self.final_l(torch.cat([premise, hypothesis], 1))\n",
        "        return out"
      ],
      "execution_count": 0,
      "outputs": []
    },
    {
      "cell_type": "code",
      "metadata": {
        "id": "DiDPgXcOY7_Q",
        "colab_type": "code",
        "colab": {}
      },
      "source": [
        "def train(model,train_loader,val_loader,optimizer,criterion,scheduler,epochs,print_iter=5):\n",
        "    train_loss=[]\n",
        "    val_loss=[]\n",
        "    for i in range(epochs):\n",
        "        model.train()\n",
        "        train_loader.init_epoch()\n",
        "        running_loss_train=0 \n",
        "        total=0.0\n",
        "        for indx,inputs in enumerate(train_loader):\n",
        "            #inputs=inputs.to(device)\n",
        "            #labels=labels.to(device)\n",
        "            optimizer.zero_grad()\n",
        "            output=model(inputs)\n",
        "            loss=criterion(output,inputs.label)\n",
        "            running_loss_train+=loss.item()\n",
        "            loss.backward()\n",
        "            optimizer.step()\n",
        "            total+=inputs.batch_size\n",
        "        train_loss.append(running_loss_train/total)\n",
        "        if (i%print_iter)==0:\n",
        "            model.eval()\n",
        "            running_corrects=0.0\n",
        "            running_loss=0.0\n",
        "            total=0.0\n",
        "            with torch.no_grad():\n",
        "                for inputs in val_loader:\n",
        "                    #inputs=inputs.to(device)\n",
        "                    #labels=labels.to(device)\n",
        "                    optimizer.zero_grad()\n",
        "                    output=model(inputs)\n",
        "                    loss=criterion(output,inputs.label)\n",
        "                    _,pred=torch.max(output, 1)\n",
        "                    running_corrects += torch.sum(pred == inputs.label).item()\n",
        "                    running_loss+=loss.item()\n",
        "                    total+=inputs.batch_size\n",
        "            print(' {} Loss: {:.6f} Acc: {:.6f}'.format(\n",
        "                  i,running_loss/total,(running_corrects/total)))\n",
        "            val_loss.append(running_loss/total)\n",
        "        scheduler.step()\n",
        "    return model,train_loss,val_loss"
      ],
      "execution_count": 0,
      "outputs": []
    },
    {
      "cell_type": "code",
      "metadata": {
        "id": "x3-uKGRyQf7H",
        "colab_type": "code",
        "outputId": "a72cab29-2d11-4246-86f3-335aa51596f6",
        "colab": {
          "base_uri": "https://localhost:8080/",
          "height": 73
        }
      },
      "source": [
        "model2=Classifier()"
      ],
      "execution_count": 0,
      "outputs": [
        {
          "output_type": "stream",
          "text": [
            "/usr/local/lib/python3.6/dist-packages/torch/nn/modules/rnn.py:50: UserWarning: dropout option adds dropout after all but last recurrent layer, so non-zero dropout expects num_layers greater than 1, but got dropout=0.25 and num_layers=1\n",
            "  \"num_layers={}\".format(dropout, num_layers))\n"
          ],
          "name": "stderr"
        }
      ]
    },
    {
      "cell_type": "code",
      "metadata": {
        "id": "owESAG1pZALx",
        "colab_type": "code",
        "outputId": "108345a2-d1be-475e-a592-d02f6a7f0d95",
        "colab": {
          "base_uri": "https://localhost:8080/",
          "height": 217
        }
      },
      "source": [
        "import torch.optim as optim\n",
        "lr=0.005\n",
        "optimizer2=optim.Adam(model2.parameters(),lr,weight_decay=0.0001)\n",
        "criterion2=nn.CrossEntropyLoss()\n",
        "#device = torch.device(\"cuda:0\" if torch.cuda.is_available() else \"cpu\")\n",
        "exp_lr_scheduler2 = optim.lr_scheduler.StepLR(optimizer2, step_size=5, gamma=0.5)\n",
        "model2.to(device)"
      ],
      "execution_count": 0,
      "outputs": [
        {
          "output_type": "execute_result",
          "data": {
            "text/plain": [
              "Classifier(\n",
              "  (embedding): Embedding(21571, 300)\n",
              "  (RNN): My_RNN(\n",
              "    (rnn): LSTM(300, 256, dropout=0.25, bidirectional=True)\n",
              "  )\n",
              "  (final_l): Output(\n",
              "    (fc1): Linear(in_features=2048, out_features=1024, bias=True)\n",
              "    (fc3): Linear(in_features=1024, out_features=512, bias=True)\n",
              "    (fc4): Linear(in_features=512, out_features=4, bias=True)\n",
              "  )\n",
              ")"
            ]
          },
          "metadata": {
            "tags": []
          },
          "execution_count": 24
        }
      ]
    },
    {
      "cell_type": "code",
      "metadata": {
        "id": "qKEuT4IQZELP",
        "colab_type": "code",
        "outputId": "7ca23d38-419f-4c98-aad8-a862c3b22e00",
        "colab": {
          "base_uri": "https://localhost:8080/",
          "height": 380
        }
      },
      "source": [
        "_,train_loss,val_loss=train(model2,train_iter,dev_iter,optimizer2,criterion2,exp_lr_scheduler2,epochs=20,print_iter=1)"
      ],
      "execution_count": 0,
      "outputs": [
        {
          "output_type": "stream",
          "text": [
            " 0 Loss: 0.005777 Acc: 0.680451\n",
            " 1 Loss: 0.005697 Acc: 0.686344\n",
            " 2 Loss: 0.005547 Acc: 0.694066\n",
            " 3 Loss: 0.005444 Acc: 0.704430\n",
            " 4 Loss: 0.005474 Acc: 0.708799\n",
            " 5 Loss: 0.005118 Acc: 0.730746\n",
            " 6 Loss: 0.005089 Acc: 0.734302\n",
            " 7 Loss: 0.005117 Acc: 0.730847\n",
            " 8 Loss: 0.005079 Acc: 0.733388\n",
            " 9 Loss: 0.005035 Acc: 0.734810\n",
            " 10 Loss: 0.004804 Acc: 0.747612\n",
            " 11 Loss: 0.004845 Acc: 0.744361\n",
            " 12 Loss: 0.004851 Acc: 0.744971\n",
            " 13 Loss: 0.004790 Acc: 0.748628\n",
            " 14 Loss: 0.004750 Acc: 0.748527\n",
            " 15 Loss: 0.004615 Acc: 0.761939\n",
            " 16 Loss: 0.004696 Acc: 0.752794\n",
            " 17 Loss: 0.004673 Acc: 0.752591\n",
            " 18 Loss: 0.004732 Acc: 0.750559\n",
            " 19 Loss: 0.004654 Acc: 0.759703\n"
          ],
          "name": "stdout"
        }
      ]
    },
    {
      "cell_type": "code",
      "metadata": {
        "id": "4G0b0iG0a0C-",
        "colab_type": "code",
        "colab": {}
      },
      "source": [
        "def accuracy(model,train_loader):\n",
        "    model.eval()\n",
        "    running_corrects=0.0\n",
        "    running_loss=0.0\n",
        "    total=0.0\n",
        "    with torch.no_grad():\n",
        "        for inputs in train_loader:\n",
        "            #inputs=inputs.to(device)\n",
        "            #labels=labels.to(device)\n",
        "            output=model(inputs)\n",
        "            _,pred=torch.max(output, 1)\n",
        "            running_corrects += torch.sum(pred == inputs.label)\n",
        "            total+=inputs.batch_size\n",
        "    print(' Acc: {:.6f}'.format((running_corrects/total)))\n",
        "    return running_corrects/total"
      ],
      "execution_count": 0,
      "outputs": []
    },
    {
      "cell_type": "code",
      "metadata": {
        "id": "DSCp4yFT1fLk",
        "colab_type": "code",
        "outputId": "bf45233c-a8d5-46a3-e343-59b64e462162",
        "colab": {
          "base_uri": "https://localhost:8080/",
          "height": 53
        }
      },
      "source": [
        "accuracy(model2,test_iter)"
      ],
      "execution_count": 0,
      "outputs": [
        {
          "output_type": "stream",
          "text": [
            " Acc: 0.760790\n"
          ],
          "name": "stdout"
        },
        {
          "output_type": "execute_result",
          "data": {
            "text/plain": [
              "tensor(0.7608, device='cuda:0')"
            ]
          },
          "metadata": {
            "tags": []
          },
          "execution_count": 27
        }
      ]
    },
    {
      "cell_type": "code",
      "metadata": {
        "id": "ICSQXN-r1mjB",
        "colab_type": "code",
        "colab": {}
      },
      "source": [
        "torch.save(model2.state_dict(), 'attention.pt')"
      ],
      "execution_count": 0,
      "outputs": []
    },
    {
      "cell_type": "code",
      "metadata": {
        "id": "xu-nuYhH1y6H",
        "colab_type": "code",
        "outputId": "7c7482f6-0899-4a19-e509-caaaaa35b377",
        "colab": {
          "base_uri": "https://localhost:8080/",
          "height": 279
        }
      },
      "source": [
        "from matplotlib import pyplot as plt\n",
        "plt.ion()\n",
        "plt.figure()\n",
        "plt.plot(train_loss[:20],label='train_loss')\n",
        "plt.plot(val_loss[:20],label='validation_loss')\n",
        "plt.xlabel('epochs')\n",
        "plt.ylabel('loss')\n",
        "plt.legend(loc='upper left')\n",
        "plt.savefig(\"./hidden_l.jpg\")"
      ],
      "execution_count": 0,
      "outputs": [
        {
          "output_type": "display_data",
          "data": {
            "image/png": "[encoded data removed]",
            "text/plain": [
              "<Figure size 432x288 with 1 Axes>"
            ]
          },
          "metadata": {
            "tags": [],
            "needs_background": "light"
          }
        }
      ]
    },
    {
      "cell_type": "code",
      "metadata": {
        "id": "h5DPGM8MjRD_",
        "colab_type": "code",
        "outputId": "dbd38443-b29d-4ba8-8eaf-275c42efe0f7",
        "colab": {
          "base_uri": "https://localhost:8080/",
          "height": 35
        }
      },
      "source": [
        "plt.savefig(\"./loss.jpg\")"
      ],
      "execution_count": 0,
      "outputs": [
        {
          "output_type": "display_data",
          "data": {
            "text/plain": [
              "<Figure size 432x288 with 0 Axes>"
            ]
          },
          "metadata": {
            "tags": []
          }
        }
      ]
    },
    {
      "cell_type": "code",
      "metadata": {
        "id": "pOefK0dmjfXm",
        "colab_type": "code",
        "colab": {}
      },
      "source": [
        ""
      ],
      "execution_count": 0,
      "outputs": []
    }
  ]
}